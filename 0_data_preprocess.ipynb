{
 "cells": [
  {
   "cell_type": "code",
   "execution_count": 13,
   "id": "8b1fd78c-52d9-46f6-af48-feb15b2abbe4",
   "metadata": {},
   "outputs": [],
   "source": [
    "import os\n",
    "import pandas as pd\n",
    "import tqdm\n",
    "from multiprocessing import Pool\n",
    "from rdkit.Chem import MolFromSmiles, MolToSmiles"
   ]
  },
  {
   "cell_type": "code",
   "execution_count": 2,
   "id": "e979bf54-33eb-4e52-bf10-9a8f3a4339b8",
   "metadata": {},
   "outputs": [],
   "source": [
    "filepath = os.path.join('data', 'gdb13.1M.freq.ll.smi')"
   ]
  },
  {
   "cell_type": "code",
   "execution_count": 8,
   "id": "3fb8c505-1217-49da-910c-6949cf65864d",
   "metadata": {},
   "outputs": [
    {
     "name": "stdout",
     "output_type": "stream",
     "text": [
      "(1000000, 3)\n"
     ]
    },
    {
     "data": {
      "text/html": [
       "<div>\n",
       "<style scoped>\n",
       "    .dataframe tbody tr th:only-of-type {\n",
       "        vertical-align: middle;\n",
       "    }\n",
       "\n",
       "    .dataframe tbody tr th {\n",
       "        vertical-align: top;\n",
       "    }\n",
       "\n",
       "    .dataframe thead th {\n",
       "        text-align: right;\n",
       "    }\n",
       "</style>\n",
       "<table border=\"1\" class=\"dataframe\">\n",
       "  <thead>\n",
       "    <tr style=\"text-align: right;\">\n",
       "      <th></th>\n",
       "      <th>0</th>\n",
       "      <th>1</th>\n",
       "      <th>2</th>\n",
       "    </tr>\n",
       "  </thead>\n",
       "  <tbody>\n",
       "    <tr>\n",
       "      <th>0</th>\n",
       "      <td>C1=Cc2cc1nnc1snc(o2)-o-1</td>\n",
       "      <td>0</td>\n",
       "      <td>68.182535</td>\n",
       "    </tr>\n",
       "    <tr>\n",
       "      <th>1</th>\n",
       "      <td>N1C2C3C4C5NC6C7C6C5(C13)C2N47</td>\n",
       "      <td>0</td>\n",
       "      <td>67.352869</td>\n",
       "    </tr>\n",
       "    <tr>\n",
       "      <th>2</th>\n",
       "      <td>c1c2c[nH]c(nn3cnc(c#1)c3)-s-2</td>\n",
       "      <td>0</td>\n",
       "      <td>65.054106</td>\n",
       "    </tr>\n",
       "    <tr>\n",
       "      <th>3</th>\n",
       "      <td>N=c1-c2cnn-1cnccc(=O)c2</td>\n",
       "      <td>0</td>\n",
       "      <td>62.522982</td>\n",
       "    </tr>\n",
       "    <tr>\n",
       "      <th>4</th>\n",
       "      <td>C=Nn1-c2cccconc-1[nH]c2</td>\n",
       "      <td>0</td>\n",
       "      <td>59.586299</td>\n",
       "    </tr>\n",
       "  </tbody>\n",
       "</table>\n",
       "</div>"
      ],
      "text/plain": [
       "                               0  1          2\n",
       "0       C1=Cc2cc1nnc1snc(o2)-o-1  0  68.182535\n",
       "1  N1C2C3C4C5NC6C7C6C5(C13)C2N47  0  67.352869\n",
       "2  c1c2c[nH]c(nn3cnc(c#1)c3)-s-2  0  65.054106\n",
       "3        N=c1-c2cnn-1cnccc(=O)c2  0  62.522982\n",
       "4        C=Nn1-c2cccconc-1[nH]c2  0  59.586299"
      ]
     },
     "execution_count": 8,
     "metadata": {},
     "output_type": "execute_result"
    }
   ],
   "source": [
    "df_raw = pd.read_csv(filepath, header=None, sep='\\t')\n",
    "\n",
    "print(df_raw.shape)\n",
    "df_raw.head()"
   ]
  },
  {
   "cell_type": "code",
   "execution_count": 14,
   "id": "dcc2cb0f-92b8-45a0-8fe7-05b0679638a4",
   "metadata": {},
   "outputs": [],
   "source": [
    "def normalize(smi):\n",
    "    can = MolToSmiles(MolFromSmiles(smi), kekuleSmiles=True)\n",
    "    lgt = len(can)\n",
    "    return can, lgt"
   ]
  },
  {
   "cell_type": "code",
   "execution_count": 15,
   "id": "29e9c18f-ab7b-4867-a2cb-73fcea1f3f60",
   "metadata": {},
   "outputs": [],
   "source": [
    "def loader(df):\n",
    "    for i in tqdm.trange(len(df)):\n",
    "        yield df_raw.iloc[i,0]"
   ]
  },
  {
   "cell_type": "code",
   "execution_count": 17,
   "id": "eb61ddd8-4315-463c-809b-b4a63fcf26ac",
   "metadata": {},
   "outputs": [
    {
     "name": "stderr",
     "output_type": "stream",
     "text": [
      "100%|██████████████████████████████████████████████████████████████████████████████████████████████████████████████████████████████████████████████████████████████| 1000000/1000000 [00:05<00:00, 179849.38it/s]\n"
     ]
    }
   ],
   "source": [
    "with Pool(30) as p:\n",
    "    records = p.map(normalize, loader(df_raw))"
   ]
  },
  {
   "cell_type": "code",
   "execution_count": 19,
   "id": "373575cf-1200-4aac-89b7-ffba0aaa89f6",
   "metadata": {},
   "outputs": [],
   "source": [
    "df = pd.DataFrame.from_records(records)\n",
    "df = df.rename(columns={0:'smiles', 1:'length'})"
   ]
  },
  {
   "cell_type": "code",
   "execution_count": 20,
   "id": "360481e2-559f-420a-a376-d818661153fb",
   "metadata": {},
   "outputs": [
    {
     "name": "stdout",
     "output_type": "stream",
     "text": [
      "(1000000, 2)\n"
     ]
    },
    {
     "data": {
      "text/html": [
       "<div>\n",
       "<style scoped>\n",
       "    .dataframe tbody tr th:only-of-type {\n",
       "        vertical-align: middle;\n",
       "    }\n",
       "\n",
       "    .dataframe tbody tr th {\n",
       "        vertical-align: top;\n",
       "    }\n",
       "\n",
       "    .dataframe thead th {\n",
       "        text-align: right;\n",
       "    }\n",
       "</style>\n",
       "<table border=\"1\" class=\"dataframe\">\n",
       "  <thead>\n",
       "    <tr style=\"text-align: right;\">\n",
       "      <th></th>\n",
       "      <th>smiles</th>\n",
       "      <th>length</th>\n",
       "    </tr>\n",
       "  </thead>\n",
       "  <tbody>\n",
       "    <tr>\n",
       "      <th>0</th>\n",
       "      <td>C1=CC2=NN=C3OC(=NS3)OC1=C2</td>\n",
       "      <td>26</td>\n",
       "    </tr>\n",
       "    <tr>\n",
       "      <th>1</th>\n",
       "      <td>N1C2C3C4C5NC6C7C6C5(C13)C2N47</td>\n",
       "      <td>29</td>\n",
       "    </tr>\n",
       "    <tr>\n",
       "      <th>2</th>\n",
       "      <td>C1#CC2=CN(C=N2)N=C2NC=C1S2</td>\n",
       "      <td>26</td>\n",
       "    </tr>\n",
       "    <tr>\n",
       "      <th>3</th>\n",
       "      <td>N=C1C2=CC(=O)C=CN=CN1N=C2</td>\n",
       "      <td>25</td>\n",
       "    </tr>\n",
       "    <tr>\n",
       "      <th>4</th>\n",
       "      <td>C=NN1C2=CNC1=NOC=CC=C2</td>\n",
       "      <td>22</td>\n",
       "    </tr>\n",
       "  </tbody>\n",
       "</table>\n",
       "</div>"
      ],
      "text/plain": [
       "                          smiles  length\n",
       "0     C1=CC2=NN=C3OC(=NS3)OC1=C2      26\n",
       "1  N1C2C3C4C5NC6C7C6C5(C13)C2N47      29\n",
       "2     C1#CC2=CN(C=N2)N=C2NC=C1S2      26\n",
       "3      N=C1C2=CC(=O)C=CN=CN1N=C2      25\n",
       "4         C=NN1C2=CNC1=NOC=CC=C2      22"
      ]
     },
     "execution_count": 20,
     "metadata": {},
     "output_type": "execute_result"
    }
   ],
   "source": [
    "print(df.shape)\n",
    "df.head()"
   ]
  },
  {
   "cell_type": "code",
   "execution_count": 21,
   "id": "0df4b197-2122-4306-b407-c2a2f9862931",
   "metadata": {},
   "outputs": [],
   "source": [
    "df.to_csv(os.path.join('data', 'gdb13.csv'), index=False)"
   ]
  },
  {
   "cell_type": "code",
   "execution_count": null,
   "id": "4af66c4c-afe2-4258-bcf4-e8927802b735",
   "metadata": {},
   "outputs": [],
   "source": []
  }
 ],
 "metadata": {
  "kernelspec": {
   "display_name": "Python 3 (ipykernel)",
   "language": "python",
   "name": "python3"
  },
  "language_info": {
   "codemirror_mode": {
    "name": "ipython",
    "version": 3
   },
   "file_extension": ".py",
   "mimetype": "text/x-python",
   "name": "python",
   "nbconvert_exporter": "python",
   "pygments_lexer": "ipython3",
   "version": "3.9.21"
  }
 },
 "nbformat": 4,
 "nbformat_minor": 5
}
