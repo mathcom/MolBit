{
 "cells": [
  {
   "cell_type": "code",
   "execution_count": 1,
   "id": "d34ee45f-fb11-480f-a48d-17119a599e6a",
   "metadata": {},
   "outputs": [],
   "source": [
    "import os\n",
    "import pandas as pd\n",
    "import numpy as np\n",
    "import seaborn as sns\n",
    "import torch\n",
    "from torch.utils.data import DataLoader\n",
    "from tqdm import tqdm, trange\n",
    "from moleval.metrics.metrics import GetMetrics\n",
    "from rdkit import Chem, RDLogger\n",
    "RDLogger.DisableLog('rdApp.*')"
   ]
  },
  {
   "cell_type": "code",
   "execution_count": 2,
   "id": "b05f04db-59f3-4034-a6c6-1429a36d39ef",
   "metadata": {},
   "outputs": [],
   "source": [
    "TASKNAME = 'gdb13'"
   ]
  },
  {
   "cell_type": "code",
   "execution_count": 3,
   "id": "88f82ed7-be7c-4e82-b4e1-e79015240dee",
   "metadata": {},
   "outputs": [],
   "source": [
    "output_dir = os.path.join('results', TASKNAME)\n",
    "if not os.path.exists(output_dir):\n",
    "    os.mkdir(output_dir)"
   ]
  },
  {
   "cell_type": "code",
   "execution_count": 4,
   "id": "88361cea-a1b7-49ad-b1f4-10441194c621",
   "metadata": {},
   "outputs": [],
   "source": [
    "use_cuda = torch.cuda.is_available()\n",
    "device = torch.device(\"cuda\" if use_cuda else \"cpu\")"
   ]
  },
  {
   "cell_type": "code",
   "execution_count": 5,
   "id": "89d3a46e-8ff3-499f-b62b-40f0bad7c70d",
   "metadata": {},
   "outputs": [],
   "source": [
    "from molbit.dataset import SmilesDataset, SmilesEncoder\n",
    "from molbit.gumbel import GumbelSmilesVAE\n",
    "from molbit.vae import CyclicalAnnealingScheduler"
   ]
  },
  {
   "cell_type": "markdown",
   "id": "b31c46a1-e47b-477d-b4a6-86d8d5773637",
   "metadata": {},
   "source": [
    "# Data Loading"
   ]
  },
  {
   "cell_type": "code",
   "execution_count": 6,
   "id": "55653871-27c9-4b0a-972e-32c165ae86f4",
   "metadata": {},
   "outputs": [
    {
     "name": "stdout",
     "output_type": "stream",
     "text": [
      "Number of SMILES (raw): 1000000\n",
      "Maximum of seqlen: 37\n",
      "Vocabulary size (including 3 special tokens): 23\n"
     ]
    }
   ],
   "source": [
    "dataset = SmilesDataset(os.path.join('data', 'gdb13.csv'))"
   ]
  },
  {
   "cell_type": "code",
   "execution_count": 7,
   "id": "2a45c6d2-a6dc-4d86-bb55-69dd3d4b299c",
   "metadata": {},
   "outputs": [],
   "source": [
    "dataset.save_char2idx(os.path.join(output_dir, 'vocabs.csv'))"
   ]
  },
  {
   "cell_type": "markdown",
   "id": "50fa3da3-6ed7-41e1-a19a-ac10485cb90d",
   "metadata": {},
   "source": [
    "# Model Initialization"
   ]
  },
  {
   "cell_type": "code",
   "execution_count": 8,
   "id": "039658ee-962e-480c-9d6c-b20dd3bb7503",
   "metadata": {},
   "outputs": [],
   "source": [
    "generator = GumbelSmilesVAE(vocab_size=dataset.vocab_size,\n",
    "                            embedding_size=16,\n",
    "                            hidden_size=256,\n",
    "                            latent_size=64,\n",
    "                            sos_idx=dataset.sos_idx,\n",
    "                            eos_idx=dataset.eos_idx,\n",
    "                            pad_idx=dataset.pad_idx,\n",
    "                            device=device)"
   ]
  },
  {
   "cell_type": "code",
   "execution_count": 9,
   "id": "e750eeee-8aa6-4138-8314-831a04c4f3c5",
   "metadata": {},
   "outputs": [],
   "source": [
    "generator.save_configs(os.path.join(output_dir, 'configs.csv'))"
   ]
  },
  {
   "cell_type": "markdown",
   "id": "7852051a-d38c-498d-bf44-e3b73bd2370c",
   "metadata": {},
   "source": [
    "# Model Training"
   ]
  },
  {
   "cell_type": "code",
   "execution_count": 10,
   "id": "93556bbc-5e6a-4bef-b8be-ba9d1445c2fe",
   "metadata": {},
   "outputs": [
    {
     "name": "stdout",
     "output_type": "stream",
     "text": [
      "[0/62500 (0%)] loss_vae: 3.138  loss_rec: 3.138  loss_kld: 0.001  beta: 0.000\n",
      "[1000/62500 (2%)] loss_vae: 1.096  loss_rec: 1.096  loss_kld: 0.693  beta: 0.000\n",
      "[2000/62500 (3%)] loss_vae: 1.050  loss_rec: 1.050  loss_kld: 0.693  beta: 0.000\n",
      "[3000/62500 (5%)] loss_vae: 1.037  loss_rec: 1.037  loss_kld: 0.693  beta: 0.000\n",
      "[4000/62500 (6%)] loss_vae: 1.045  loss_rec: 1.036  loss_kld: 0.693  beta: 0.012\n",
      "[5000/62500 (8%)] loss_vae: 0.855  loss_rec: 0.780  loss_kld: 0.536  beta: 0.140\n",
      "[6000/62500 (10%)] loss_vae: 0.758  loss_rec: 0.639  loss_kld: 0.444  beta: 0.268\n",
      "[7000/62500 (11%)] loss_vae: 0.737  loss_rec: 0.579  loss_kld: 0.398  beta: 0.396\n",
      "[8000/62500 (13%)] loss_vae: 0.802  loss_rec: 0.595  loss_kld: 0.394  beta: 0.524\n",
      "[9000/62500 (14%)] loss_vae: 0.818  loss_rec: 0.578  loss_kld: 0.368  beta: 0.652\n",
      "[10000/62500 (16%)] loss_vae: 0.762  loss_rec: 0.501  loss_kld: 0.334  beta: 0.780\n",
      "[11000/62500 (18%)] loss_vae: 0.820  loss_rec: 0.543  loss_kld: 0.305  beta: 0.908\n",
      "[12000/62500 (19%)] loss_vae: 0.828  loss_rec: 0.543  loss_kld: 0.285  beta: 1.000\n",
      "[13000/62500 (21%)] loss_vae: 0.843  loss_rec: 0.558  loss_kld: 0.284  beta: 1.000\n",
      "[14000/62500 (22%)] loss_vae: 0.874  loss_rec: 0.586  loss_kld: 0.288  beta: 1.000\n",
      "[15000/62500 (24%)] loss_vae: 0.799  loss_rec: 0.514  loss_kld: 0.285  beta: 1.000\n",
      "[16000/62500 (26%)] loss_vae: 0.474  loss_rec: 0.474  loss_kld: 0.472  beta: 0.000\n",
      "[17000/62500 (27%)] loss_vae: 0.386  loss_rec: 0.386  loss_kld: 0.548  beta: 0.000\n",
      "[18000/62500 (29%)] loss_vae: 0.396  loss_rec: 0.396  loss_kld: 0.575  beta: 0.000\n",
      "[19000/62500 (30%)] loss_vae: 0.351  loss_rec: 0.351  loss_kld: 0.573  beta: 0.000\n",
      "[20000/62500 (32%)] loss_vae: 0.367  loss_rec: 0.331  loss_kld: 0.596  beta: 0.060\n",
      "[21000/62500 (34%)] loss_vae: 0.438  loss_rec: 0.328  loss_kld: 0.590  beta: 0.188\n",
      "[22000/62500 (35%)] loss_vae: 0.570  loss_rec: 0.381  loss_kld: 0.599  beta: 0.316\n",
      "[23000/62500 (37%)] loss_vae: 0.579  loss_rec: 0.323  loss_kld: 0.579  beta: 0.444\n",
      "[24000/62500 (38%)] loss_vae: 0.668  loss_rec: 0.346  loss_kld: 0.562  beta: 0.572\n",
      "[25000/62500 (40%)] loss_vae: 0.689  loss_rec: 0.317  loss_kld: 0.531  beta: 0.700\n",
      "[26000/62500 (42%)] loss_vae: 0.730  loss_rec: 0.333  loss_kld: 0.479  beta: 0.828\n",
      "[27000/62500 (43%)] loss_vae: 0.757  loss_rec: 0.355  loss_kld: 0.421  beta: 0.956\n",
      "[28000/62500 (45%)] loss_vae: 0.746  loss_rec: 0.363  loss_kld: 0.383  beta: 1.000\n",
      "[29000/62500 (46%)] loss_vae: 0.778  loss_rec: 0.400  loss_kld: 0.378  beta: 1.000\n",
      "[30000/62500 (48%)] loss_vae: 0.770  loss_rec: 0.400  loss_kld: 0.371  beta: 1.000\n",
      "[31000/62500 (50%)] loss_vae: 0.736  loss_rec: 0.362  loss_kld: 0.374  beta: 1.000\n",
      "[32000/62500 (51%)] loss_vae: 0.296  loss_rec: 0.296  loss_kld: 0.561  beta: 0.000\n",
      "[33000/62500 (53%)] loss_vae: 0.282  loss_rec: 0.282  loss_kld: 0.568  beta: 0.000\n",
      "[34000/62500 (54%)] loss_vae: 0.250  loss_rec: 0.249  loss_kld: 0.593  beta: 0.000\n",
      "[35000/62500 (56%)] loss_vae: 0.248  loss_rec: 0.248  loss_kld: 0.600  beta: 0.000\n",
      "[36000/62500 (58%)] loss_vae: 0.320  loss_rec: 0.255  loss_kld: 0.604  beta: 0.108\n",
      "[37000/62500 (59%)] loss_vae: 0.401  loss_rec: 0.258  loss_kld: 0.604  beta: 0.236\n",
      "[38000/62500 (61%)] loss_vae: 0.442  loss_rec: 0.228  loss_kld: 0.588  beta: 0.364\n",
      "[39000/62500 (62%)] loss_vae: 0.567  loss_rec: 0.278  loss_kld: 0.587  beta: 0.492\n",
      "[40000/62500 (64%)] loss_vae: 0.555  loss_rec: 0.204  loss_kld: 0.567  beta: 0.620\n",
      "[41000/62500 (66%)] loss_vae: 0.640  loss_rec: 0.249  loss_kld: 0.523  beta: 0.748\n",
      "[42000/62500 (67%)] loss_vae: 0.684  loss_rec: 0.253  loss_kld: 0.491  beta: 0.876\n",
      "[43000/62500 (69%)] loss_vae: 0.697  loss_rec: 0.250  loss_kld: 0.447  beta: 1.000\n",
      "[44000/62500 (70%)] loss_vae: 0.732  loss_rec: 0.309  loss_kld: 0.423  beta: 1.000\n",
      "[45000/62500 (72%)] loss_vae: 0.700  loss_rec: 0.285  loss_kld: 0.414  beta: 1.000\n",
      "[46000/62500 (74%)] loss_vae: 0.689  loss_rec: 0.274  loss_kld: 0.415  beta: 1.000\n",
      "[47000/62500 (75%)] loss_vae: 0.226  loss_rec: 0.226  loss_kld: 0.510  beta: 0.000\n",
      "[48000/62500 (77%)] loss_vae: 0.192  loss_rec: 0.192  loss_kld: 0.578  beta: 0.000\n",
      "[49000/62500 (78%)] loss_vae: 0.214  loss_rec: 0.214  loss_kld: 0.593  beta: 0.000\n",
      "[50000/62500 (80%)] loss_vae: 0.198  loss_rec: 0.197  loss_kld: 0.594  beta: 0.000\n",
      "[51000/62500 (82%)] loss_vae: 0.195  loss_rec: 0.178  loss_kld: 0.610  beta: 0.028\n",
      "[52000/62500 (83%)] loss_vae: 0.288  loss_rec: 0.193  loss_kld: 0.607  beta: 0.156\n",
      "[53000/62500 (85%)] loss_vae: 0.369  loss_rec: 0.200  loss_kld: 0.597  beta: 0.284\n",
      "[54000/62500 (86%)] loss_vae: 0.471  loss_rec: 0.228  loss_kld: 0.590  beta: 0.412\n",
      "[55000/62500 (88%)] loss_vae: 0.485  loss_rec: 0.166  loss_kld: 0.590  beta: 0.540\n",
      "[56000/62500 (90%)] loss_vae: 0.584  loss_rec: 0.211  loss_kld: 0.558  beta: 0.668\n",
      "[57000/62500 (91%)] loss_vae: 0.597  loss_rec: 0.193  loss_kld: 0.508  beta: 0.796\n",
      "[58000/62500 (93%)] loss_vae: 0.682  loss_rec: 0.237  loss_kld: 0.481  beta: 0.924\n",
      "[59000/62500 (94%)] loss_vae: 0.678  loss_rec: 0.226  loss_kld: 0.452  beta: 1.000\n",
      "[60000/62500 (96%)] loss_vae: 0.623  loss_rec: 0.176  loss_kld: 0.448  beta: 1.000\n",
      "[61000/62500 (98%)] loss_vae: 0.676  loss_rec: 0.252  loss_kld: 0.425  beta: 1.000\n",
      "[62000/62500 (99%)] loss_vae: 0.632  loss_rec: 0.195  loss_kld: 0.437  beta: 1.000\n"
     ]
    }
   ],
   "source": [
    "history = []\n",
    "\n",
    "loader = DataLoader(dataset, batch_size=32, shuffle=True)\n",
    "num_batch = len(loader)\n",
    "num_epoch = 2\n",
    "num_steps = num_epoch * num_batch\n",
    "scheduler = CyclicalAnnealingScheduler(num_steps, M=4) # M: number of cycles\n",
    "\n",
    "for i in range(num_epoch):\n",
    "    for j, batch in enumerate(loader):\n",
    "        ## kld scheduling\n",
    "        step = i*num_batch + j\n",
    "        beta = scheduler(step)\n",
    "        \n",
    "        ## input tensor\n",
    "        X_lgt = batch['length'].to(device)\n",
    "        X_smi = dataset.encode(batch['smiles'], X_lgt.max()).to(device)\n",
    "        \n",
    "        ## fit\n",
    "        loss_vae, loss_rec, loss_kld = generator.partial_fit(X_smi, X_lgt, beta)\n",
    "        history.append({'loss_vae':loss_vae, 'loss_rec':loss_rec, 'loss_kld':loss_kld, 'beta':beta})\n",
    "    \n",
    "        ## logging\n",
    "        if step % 1000 == 0:\n",
    "            print(f'[{step}/{num_steps} ({step/num_steps*100:.0f}%)] loss_vae: {loss_vae:.3f}  loss_rec: {loss_rec:.3f}  loss_kld: {loss_kld:.3f}  beta: {beta:.3f}')"
   ]
  },
  {
   "cell_type": "code",
   "execution_count": 11,
   "id": "2fbe0178-32a9-4725-9135-f873436a29ce",
   "metadata": {},
   "outputs": [],
   "source": [
    "generator.save_model(os.path.join(output_dir, 'ckpt.pt'))"
   ]
  },
  {
   "cell_type": "code",
   "execution_count": 12,
   "id": "176de8d0-23a2-4618-affc-ef14e90a8282",
   "metadata": {},
   "outputs": [],
   "source": [
    "df_history = pd.DataFrame(history)\n",
    "df_history.to_csv(os.path.join(output_dir, 'history.csv'), index=False)"
   ]
  },
  {
   "cell_type": "code",
   "execution_count": 13,
   "id": "fecb94cf-bb81-400d-be77-e779b910a85b",
   "metadata": {},
   "outputs": [
    {
     "data": {
      "text/plain": [
       "Text(0.5, 0, 'steps')"
      ]
     },
     "execution_count": 13,
     "metadata": {},
     "output_type": "execute_result"
    },
    {
     "data": {
      "image/png": "[encoded data removed]",
      "text/plain": [
       "<Figure size 640x480 with 1 Axes>"
      ]
     },
     "metadata": {},
     "output_type": "display_data"
    }
   ],
   "source": [
    "sns.set_theme(style='whitegrid')\n",
    "ax = sns.lineplot(x=df_history.index, y=df_history['loss_vae'], err_style=None)\n",
    "ax = sns.lineplot(x=df_history.index, y=df_history['loss_rec'], err_style=None, ax=ax)\n",
    "ax = sns.lineplot(x=df_history.index, y=df_history['loss_kld'], err_style=None, ax=ax)\n",
    "\n",
    "ax.legend(['loss_vae', 'loss_rec', 'loss_kld'])\n",
    "ax.set_ylabel('loss')\n",
    "ax.set_xlabel('steps')"
   ]
  },
  {
   "cell_type": "markdown",
   "id": "57731914-14ce-41d2-8d78-5f79172f226f",
   "metadata": {},
   "source": [
    "# Random Sampling"
   ]
  },
  {
   "cell_type": "code",
   "execution_count": 7,
   "id": "9d06f05d-44ac-4adc-a6f0-ed0a4f31a195",
   "metadata": {},
   "outputs": [
    {
     "name": "stdout",
     "output_type": "stream",
     "text": [
      "Vocabulary size (including 3 special tokens): 23\n"
     ]
    }
   ],
   "source": [
    "tokenizer = SmilesEncoder((os.path.join(output_dir, 'vocabs.csv')))"
   ]
  },
  {
   "cell_type": "code",
   "execution_count": 8,
   "id": "f872c14c-eaba-418c-9546-bea294deb3ab",
   "metadata": {},
   "outputs": [],
   "source": [
    "new_generator = GumbelSmilesVAE(vocab_size=tokenizer.vocab_size,\n",
    "                                embedding_size=16,\n",
    "                                hidden_size=256,\n",
    "                                latent_size=64,\n",
    "                                sos_idx=tokenizer.sos_idx,\n",
    "                                eos_idx=tokenizer.eos_idx,\n",
    "                                pad_idx=tokenizer.pad_idx,\n",
    "                                device=device)\n",
    "\n",
    "new_generator.load_model(os.path.join(output_dir, 'ckpt.pt'))"
   ]
  },
  {
   "cell_type": "code",
   "execution_count": 9,
   "id": "50c7b00a-f383-4844-af33-7cb0cf9346fd",
   "metadata": {
    "scrolled": true
   },
   "outputs": [
    {
     "name": "stderr",
     "output_type": "stream",
     "text": [
      "100%|██████████████████████████████████████████████████████████████████████████████████████████████████████████████████████████████████████████████████████████████████| 10000/10000 [00:52<00:00, 191.78it/s]\n"
     ]
    }
   ],
   "source": [
    "rng = np.random.RandomState(2025)\n",
    "latent_vectors = (rng.randn(10000,64) > 0).astype(np.float32)\n",
    "\n",
    "generated = []\n",
    "with torch.no_grad():\n",
    "    for z in tqdm(latent_vectors):\n",
    "        z = torch.tensor(z, device=device)\n",
    "        smi = new_generator.inference(z)\n",
    "        smi = tokenizer.decode([smi])[0]\n",
    "        generated.append(smi)\n",
    "\n",
    "df_gen = pd.DataFrame(generated, columns=['smiles'])"
   ]
  },
  {
   "cell_type": "markdown",
   "id": "5a0edd27-840a-4381-a4eb-950941d36c7b",
   "metadata": {},
   "source": [
    "# Validity Check"
   ]
  },
  {
   "cell_type": "code",
   "execution_count": 10,
   "id": "bac89499-e14c-4af8-a91f-0c245d3d17c8",
   "metadata": {},
   "outputs": [],
   "source": [
    "df_gen.loc[:,'canonical'] = ''\n",
    "df_gen.loc[:,'valid'] = 0\n",
    "df_gen = df_gen.astype({'valid':int})"
   ]
  },
  {
   "cell_type": "code",
   "execution_count": 11,
   "id": "2b15fb6d-8ae2-4ce6-8d34-f69075feb7d0",
   "metadata": {},
   "outputs": [
    {
     "name": "stderr",
     "output_type": "stream",
     "text": [
      "100%|█████████████████████████████████████████████████████████████████████████████████████████████████████████████████████████████████████████████████████████████████| 10000/10000 [00:01<00:00, 5301.12it/s]\n"
     ]
    }
   ],
   "source": [
    "for i in trange(len(df_gen)):\n",
    "    smi = df_gen.loc[i,'smiles']\n",
    "    mol = Chem.MolFromSmiles(smi)\n",
    "    if mol:\n",
    "        df_gen.loc[i,'canonical'] = Chem.MolToSmiles(mol, kekuleSmiles=True)\n",
    "        df_gen.loc[i,'valid'] = 1"
   ]
  },
  {
   "cell_type": "code",
   "execution_count": 12,
   "id": "f04ce1ef-ad72-44d2-ac87-a36479d3f44e",
   "metadata": {},
   "outputs": [
    {
     "data": {
      "text/html": [
       "<div>\n",
       "<style scoped>\n",
       "    .dataframe tbody tr th:only-of-type {\n",
       "        vertical-align: middle;\n",
       "    }\n",
       "\n",
       "    .dataframe tbody tr th {\n",
       "        vertical-align: top;\n",
       "    }\n",
       "\n",
       "    .dataframe thead th {\n",
       "        text-align: right;\n",
       "    }\n",
       "</style>\n",
       "<table border=\"1\" class=\"dataframe\">\n",
       "  <thead>\n",
       "    <tr style=\"text-align: right;\">\n",
       "      <th></th>\n",
       "      <th>smiles</th>\n",
       "      <th>canonical</th>\n",
       "      <th>valid</th>\n",
       "    </tr>\n",
       "  </thead>\n",
       "  <tbody>\n",
       "    <tr>\n",
       "      <th>0</th>\n",
       "      <td>C=C1C=NOC(OCC=C)=C1C=O</td>\n",
       "      <td>C=CCOC1=C(C=O)C(=C)C=NO1</td>\n",
       "      <td>1</td>\n",
       "    </tr>\n",
       "    <tr>\n",
       "      <th>1</th>\n",
       "      <td>C#CCNC1(CN(C)C)SC(=O)O1</td>\n",
       "      <td>C#CCNC1(CN(C)C)OC(=O)S1</td>\n",
       "      <td>1</td>\n",
       "    </tr>\n",
       "    <tr>\n",
       "      <th>2</th>\n",
       "      <td>C=C(C(=N)C(=N)N)C1=NOCC1=O</td>\n",
       "      <td>C=C(C(=N)C(=N)N)C1=NOCC1=O</td>\n",
       "      <td>1</td>\n",
       "    </tr>\n",
       "    <tr>\n",
       "      <th>3</th>\n",
       "      <td>C=CC(C)C1(O)COC2(CCS2)C1</td>\n",
       "      <td>C=CC(C)C1(O)COC2(CCS2)C1</td>\n",
       "      <td>1</td>\n",
       "    </tr>\n",
       "    <tr>\n",
       "      <th>4</th>\n",
       "      <td>CC=C1OC2C3CC4CN4CC2C13</td>\n",
       "      <td>CC=C1OC2C3CC4CN4CC2C13</td>\n",
       "      <td>1</td>\n",
       "    </tr>\n",
       "    <tr>\n",
       "      <th>...</th>\n",
       "      <td>...</td>\n",
       "      <td>...</td>\n",
       "      <td>...</td>\n",
       "    </tr>\n",
       "    <tr>\n",
       "      <th>9995</th>\n",
       "      <td>COCC(O)CN(C)N=CNC=N</td>\n",
       "      <td>COCC(O)CN(C)N=CNC=N</td>\n",
       "      <td>1</td>\n",
       "    </tr>\n",
       "    <tr>\n",
       "      <th>9996</th>\n",
       "      <td>C=NN(N)C1CCOC2CCC21C</td>\n",
       "      <td>C=NN(N)C1CCOC2CCC21C</td>\n",
       "      <td>1</td>\n",
       "    </tr>\n",
       "    <tr>\n",
       "      <th>9997</th>\n",
       "      <td>C=CC1C=CN(C=N)C1C(C)C=C</td>\n",
       "      <td>C=CC(C)C1C(C=C)C=CN1C=N</td>\n",
       "      <td>1</td>\n",
       "    </tr>\n",
       "    <tr>\n",
       "      <th>9998</th>\n",
       "      <td>C=CC(=N)NC(C=O)C(C)=COC</td>\n",
       "      <td>C=CC(=N)NC(C=O)C(C)=COC</td>\n",
       "      <td>1</td>\n",
       "    </tr>\n",
       "    <tr>\n",
       "      <th>9999</th>\n",
       "      <td>C=C1C2OCC3(NC4COC4O1)C23</td>\n",
       "      <td></td>\n",
       "      <td>0</td>\n",
       "    </tr>\n",
       "  </tbody>\n",
       "</table>\n",
       "<p>10000 rows × 3 columns</p>\n",
       "</div>"
      ],
      "text/plain": [
       "                          smiles                   canonical  valid\n",
       "0         C=C1C=NOC(OCC=C)=C1C=O    C=CCOC1=C(C=O)C(=C)C=NO1      1\n",
       "1        C#CCNC1(CN(C)C)SC(=O)O1     C#CCNC1(CN(C)C)OC(=O)S1      1\n",
       "2     C=C(C(=N)C(=N)N)C1=NOCC1=O  C=C(C(=N)C(=N)N)C1=NOCC1=O      1\n",
       "3       C=CC(C)C1(O)COC2(CCS2)C1    C=CC(C)C1(O)COC2(CCS2)C1      1\n",
       "4         CC=C1OC2C3CC4CN4CC2C13      CC=C1OC2C3CC4CN4CC2C13      1\n",
       "...                          ...                         ...    ...\n",
       "9995         COCC(O)CN(C)N=CNC=N         COCC(O)CN(C)N=CNC=N      1\n",
       "9996        C=NN(N)C1CCOC2CCC21C        C=NN(N)C1CCOC2CCC21C      1\n",
       "9997     C=CC1C=CN(C=N)C1C(C)C=C     C=CC(C)C1C(C=C)C=CN1C=N      1\n",
       "9998     C=CC(=N)NC(C=O)C(C)=COC     C=CC(=N)NC(C=O)C(C)=COC      1\n",
       "9999    C=C1C2OCC3(NC4COC4O1)C23                                  0\n",
       "\n",
       "[10000 rows x 3 columns]"
      ]
     },
     "execution_count": 12,
     "metadata": {},
     "output_type": "execute_result"
    }
   ],
   "source": [
    "df_gen"
   ]
  },
  {
   "cell_type": "code",
   "execution_count": 13,
   "id": "ad218ce0-652d-4cca-9795-80ceb0fdf016",
   "metadata": {},
   "outputs": [
    {
     "data": {
      "text/plain": [
       "valid\n",
       "1    9346\n",
       "0     654\n",
       "Name: count, dtype: int64"
      ]
     },
     "execution_count": 13,
     "metadata": {},
     "output_type": "execute_result"
    }
   ],
   "source": [
    "df_gen['valid'].value_counts()"
   ]
  },
  {
   "cell_type": "code",
   "execution_count": 14,
   "id": "d1256812-bdbc-4329-9a0b-3a5508f6d99c",
   "metadata": {},
   "outputs": [],
   "source": [
    "df_gen.to_csv(os.path.join(output_dir, 'generated.csv'), index=False)"
   ]
  },
  {
   "cell_type": "markdown",
   "id": "7a629e49-e8ca-4b8f-a99b-d56ffabf4b83",
   "metadata": {},
   "source": [
    "# Evaluation"
   ]
  },
  {
   "cell_type": "code",
   "execution_count": 15,
   "id": "02f13f0a-876c-4193-856d-7824286a33aa",
   "metadata": {},
   "outputs": [
    {
     "name": "stdout",
     "output_type": "stream",
     "text": [
      "Cleaning up reference smiles\n"
     ]
    }
   ],
   "source": [
    "MetricEngine = GetMetrics(\n",
    "    n_jobs=20,\n",
    "    device='cpu',\n",
    "    batch_size=512,\n",
    "    run_fcd=False,\n",
    "    train=dataset.df['smiles'].values.tolist(),\n",
    ")"
   ]
  },
  {
   "cell_type": "code",
   "execution_count": 16,
   "id": "54393a62-d450-4ac1-8929-f9569fdea80a",
   "metadata": {},
   "outputs": [
    {
     "name": "stdout",
     "output_type": "stream",
     "text": [
      "Calculating Validity & Uniqueness\n",
      "Computing pre-statistics (fps, ring systems etc.)\n",
      "Calculating Novelty\n",
      "Calculating Diversity\n",
      "Calculating Filters\n"
     ]
    }
   ],
   "source": [
    "metrics = MetricEngine.calculate(\n",
    "    df_gen['smiles'].values.tolist(),\n",
    "    calc_valid=True,\n",
    "    calc_unique=True,\n",
    "    unique_k=10000,\n",
    "    se_k=1000,\n",
    "    sp_k=1000,\n",
    "    verbose=True,\n",
    ")"
   ]
  },
  {
   "cell_type": "code",
   "execution_count": 17,
   "id": "4a9dd0bc-10cf-4a80-a328-c0beb508a98d",
   "metadata": {},
   "outputs": [
    {
     "data": {
      "text/plain": [
       "{'#': 10000,\n",
       " 'Validity': 0.9345,\n",
       " '# valid': 9345,\n",
       " 'Uniqueness': 1.0,\n",
       " '# valid & unique': 9345,\n",
       " 'Novelty': 0.9997859818084537,\n",
       " '# novel': 9343,\n",
       " 'IntDiv1': 0.9038065353801495,\n",
       " 'IntDiv2': 0.8970243566455017,\n",
       " 'SEDiv@1k': 0.993,\n",
       " 'SPDiv@1k': 0.9083269846974154,\n",
       " '# scaffolds': 4608,\n",
       " 'ScaffDiv': 0.8961942575643426,\n",
       " 'ScaffUniqueness': 0.4930979133226324,\n",
       " 'FG': 0.23449770942408377,\n",
       " 'RS': 0.45453616673477726,\n",
       " 'Filters': 0.6340288924558587,\n",
       " 'Purchasable_ZINC20': 0.0}"
      ]
     },
     "execution_count": 17,
     "metadata": {},
     "output_type": "execute_result"
    }
   ],
   "source": [
    "metrics"
   ]
  },
  {
   "cell_type": "code",
   "execution_count": null,
   "id": "317b5ac9-e72e-4cbc-bb49-12fae820f016",
   "metadata": {},
   "outputs": [],
   "source": []
  }
 ],
 "metadata": {
  "kernelspec": {
   "display_name": "Python 3 (ipykernel)",
   "language": "python",
   "name": "python3"
  },
  "language_info": {
   "codemirror_mode": {
    "name": "ipython",
    "version": 3
   },
   "file_extension": ".py",
   "mimetype": "text/x-python",
   "name": "python",
   "nbconvert_exporter": "python",
   "pygments_lexer": "ipython3",
   "version": "3.9.21"
  }
 },
 "nbformat": 4,
 "nbformat_minor": 5
}
